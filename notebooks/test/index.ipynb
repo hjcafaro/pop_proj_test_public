{
 "cells": [
  {
   "cell_type": "code",
   "execution_count": 1,
   "metadata": {},
   "outputs": [],
   "source": [
    "from util import *\n",
    "import pandas as pd \n",
    "import numpy as np\n",
    "import matplotlib.pyplot as plt\n",
    "import matplotlib.ticker as ticker\n",
    "\n",
    "fert_df = pd.read_csv(\"schema_total_fert.csv\")\n",
    "fert_df = fert_df.set_index([\"YEAR\"])\n",
    "\n",
    "mort_df = pd.read_csv(\"schema_total_mort.csv\")\n",
    "mort_df = mort_df.set_index([\"YEAR\", \"SEX\"])\n",
    "\n",
    "migr_df = pd.read_csv(\"schema_total_migr.csv\")\n",
    "migr_df = migr_df.set_index([\"YEAR\", \"SEX\"])\n",
    "\n",
    "init_pop_df = pd.read_csv(\"schema_total_pop.csv\", usecols=[\"Sex\", \"Age\", \"Population\"])\n",
    "\n",
    "start_year = 2024 \n",
    "end_year = 2100\n",
    "\n",
    "proj_main = (project_out(init_pop_df, fert_df, migr_df, mort_df, 2024, 2100))\n",
    "\n",
    "migr_df = pd.read_csv(\"schema_total_migr_hi.csv\")\n",
    "migr_df = migr_df.set_index([\"YEAR\", \"SEX\"])\n",
    "\n",
    "proj_hi = (project_out(init_pop_df, fert_df, migr_df, mort_df, 2024, 2100))\n",
    "\n",
    "migr_df = pd.read_csv(\"schema_total_migr_low.csv\")\n",
    "migr_df = migr_df.set_index([\"YEAR\", \"SEX\"])\n",
    "\n",
    "proj_low = (project_out(init_pop_df, fert_df, migr_df, mort_df, 2024, 2100))\n",
    "\n",
    "migr_df = pd.read_csv(\"schema_total_migr_zero.csv\")\n",
    "migr_df = migr_df.set_index([\"YEAR\", \"SEX\"])\n",
    "\n",
    "proj_zero = (project_out(init_pop_df, fert_df, migr_df, mort_df, 2024, 2100))\n",
    "\n",
    "migr_df = pd.read_csv(\"schema_total_migr.csv\")\n",
    "migr_df = migr_df.set_index([\"YEAR\", \"SEX\"])\n",
    "\n",
    "main_shifts = pd.read_csv(\"main proj updates.csv\")\n",
    "results = {}\n",
    "\n",
    "for pct_change in range(-100, 201):\n",
    "\n",
    "    results[pct_change] = main_shifts[f\"{pct_change}\"]\n",
    "\n",
    "\n",
    "years = [year for year in range(start_year, end_year+1)]\n",
    "\n",
    "historical_pop = pd.read_csv(\"historical pop data.csv\").iloc[:, 1] * 1000 * 331567.0 / 337000.0\n",
    "\n",
    "\n",
    "\n",
    "historical_years = [i for i in range(1929, 2025)]"
   ]
  },
  {
   "cell_type": "code",
   "execution_count": 2,
   "metadata": {},
   "outputs": [
    {
     "data": {
      "application/vnd.jupyter.widget-view+json": {
       "model_id": "be9750df93844d46a0a2f31390263c7b",
       "version_major": 2,
       "version_minor": 0
      },
      "text/plain": [
       "VBox(children=(Output(), IntSlider(value=0, continuous_update=False, description='Percent change from Census B…"
      ]
     },
     "metadata": {},
     "output_type": "display_data"
    }
   ],
   "source": [
    "%matplotlib widget\n",
    "\n",
    "\n",
    "def adjusted_main_fn(x):\n",
    "    return results[x]\n",
    "\n",
    "w = widgets.IntSlider(continuous_update=False, description=\"Percent change from Census Bureau main migration projections (applied to Adjusted Main Projection)\", layout=widgets.Layout(width='80%', height='80px'), style=dict(description_width='initial', slider_width='initial'))\n",
    "w.max = 200\n",
    "w.min = -100\n",
    "\n",
    "g = Grapher(\n",
    "    [MultiProjection(\"Adjusted Main Projection\", years, adjusted_main_fn, w),\n",
    "     SimpleProjection(\"High Migration\", years, proj_hi),\n",
    "     SimpleProjection(\"Low Projection\", years, proj_low),\n",
    "     SimpleProjection(\"Zero Migration\", years, proj_zero),\n",
    "     SimpleProjection(None, historical_years, historical_pop, False)]\n",
    ")\n",
    "\n",
    "g.show()"
   ]
  }
 ],
 "metadata": {
  "kernelspec": {
   "display_name": "base",
   "language": "python",
   "name": "python3"
  },
  "language_info": {
   "codemirror_mode": {
    "name": "ipython",
    "version": 3
   },
   "file_extension": ".py",
   "mimetype": "text/x-python",
   "name": "python",
   "nbconvert_exporter": "python",
   "pygments_lexer": "ipython3",
   "version": "3.11.8"
  }
 },
 "nbformat": 4,
 "nbformat_minor": 2
}
